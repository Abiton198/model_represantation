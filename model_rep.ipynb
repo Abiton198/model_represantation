{
 "cells": [
  {
   "cell_type": "code",
   "execution_count": 18,
   "id": "fd1ec435-b4df-4f60-9936-9f868f84f154",
   "metadata": {},
   "outputs": [],
   "source": [
    "import numpy as np\n",
    "import matplotlib.pyplot as plt\n",
    "plt.style.use('./dataset.csv')"
   ]
  },
  {
   "cell_type": "code",
   "execution_count": 19,
   "id": "57a4bef3-d740-4ac9-80d1-bb6d55b586c6",
   "metadata": {},
   "outputs": [
    {
     "name": "stdout",
     "output_type": "stream",
     "text": [
      "x_train = [1. 2. 3. 4. 5.]\n",
      "y_train = [ 300.  500.  700.  900. 1100.]\n"
     ]
    }
   ],
   "source": [
    "# x_train is the input variable (size in 1000 square feet)\n",
    "# y_train is the target (price in 1000s of dollars)\n",
    "x_train = np.array([1.0, 2.0, 3.0, 4.0, 5.0])\n",
    "y_train = np.array([300.0, 500.0, 700.0, 900.0, 1100.0])\n",
    "print(f\"x_train = {x_train}\")\n",
    "print(f\"y_train = {y_train}\")"
   ]
  },
  {
   "cell_type": "code",
   "execution_count": 20,
   "id": "a6e6cc16-7329-405d-8f21-1b2b670ca043",
   "metadata": {},
   "outputs": [
    {
     "name": "stdout",
     "output_type": "stream",
     "text": [
      "x_train.shape: (5,)\n",
      "Number of training examples is: 5\n"
     ]
    }
   ],
   "source": [
    "# m is the number of training examples\n",
    "print(f\"x_train.shape: {x_train.shape}\")\n",
    "m = x_train.shape[0]\n",
    "print(f\"Number of training examples is: {m}\")"
   ]
  },
  {
   "cell_type": "code",
   "execution_count": 21,
   "id": "20957d0d-cca4-4fb1-92ed-42394801959a",
   "metadata": {},
   "outputs": [
    {
     "name": "stdout",
     "output_type": "stream",
     "text": [
      "(x^(4), y^(4)) = (5.0, 1100.0)\n"
     ]
    }
   ],
   "source": [
    "i = 4 # Change this to 1 to see (x^1, y^1)\n",
    "\n",
    "x_i = x_train[i]\n",
    "y_i = y_train[i]\n",
    "print(f\"(x^({i}), y^({i})) = ({x_i}, {y_i})\")"
   ]
  },
  {
   "cell_type": "code",
   "execution_count": 22,
   "id": "84e7c30c-83e3-44ed-9c0c-1679b0d4e6ab",
   "metadata": {},
   "outputs": [
    {
     "data": {
      "image/png": "[encoded data removed]",
      "text/plain": [
       "<Figure size 432x288 with 1 Axes>"
      ]
     },
     "metadata": {
      "needs_background": "light"
     },
     "output_type": "display_data"
    }
   ],
   "source": [
    "# Plot the data points\n",
    "plt.scatter(x_train, y_train, marker='x', c='r')\n",
    "# Set the title\n",
    "plt.title(\"Housing Prices\")\n",
    "# Set the y-axis label\n",
    "plt.ylabel('Price (in 1000s of dollars)')\n",
    "# Set the x-axis label\n",
    "plt.xlabel('Size (1000 sqft)')\n",
    "plt.show()"
   ]
  },
  {
   "cell_type": "code",
   "execution_count": 23,
   "id": "aaae2e4d-5fc2-4384-9046-478f364e7114",
   "metadata": {},
   "outputs": [
    {
     "name": "stdout",
     "output_type": "stream",
     "text": [
      "w: 500\n",
      "b: 300\n"
     ]
    }
   ],
   "source": [
    "w = 500\n",
    "b = 300\n",
    "print(f\"w: {w}\")\n",
    "print(f\"b: {b}\")"
   ]
  },
  {
   "cell_type": "code",
   "execution_count": 25,
   "id": "defba2bb-6b95-4fc5-b674-c3fde8eb0afe",
   "metadata": {},
   "outputs": [],
   "source": [
    "# Now, let's compute the value of  𝑓𝑤,𝑏(𝑥(𝑖))\n",
    "#   for your two data points. You can explicitly write this out for each data point as -\n",
    "\n",
    "# for  𝑥(0)\n",
    "#  , f_wb = w * x[0] + b\n",
    "\n",
    "# for  𝑥(1)\n",
    "#  , f_wb = w * x[1] + b\n",
    "\n",
    "# For a large number of data points, this can get unwieldy and repetitive. So instead, you can calculate the function output in a for loop as shown in the compute_model_output function below.\n",
    "\n",
    "# Note: The argument description (ndarray (m,)) describes a Numpy n-dimensional array of shape (m,). (scalar) describes an argument without dimensions, just a magnitude.\n",
    "# Note: np.zero(n) will return a one-dimensional numpy array with  𝑛\n",
    "#   entries"
   ]
  },
  {
   "cell_type": "code",
   "execution_count": 31,
   "id": "c7061212-f387-4111-9365-f738de5e9fc5",
   "metadata": {},
   "outputs": [],
   "source": [
    "def compute_model_output(x, w, b):\n",
    "    \"\"\"\n",
    "    Computes the prediction of a linear model\n",
    "    Args:\n",
    "      x (ndarray (m,)): Data, m examples \n",
    "      w,b (scalar)    : model parameters  \n",
    "    Returns\n",
    "      y (ndarray (m,)): target values\n",
    "    \"\"\"\n",
    "    m = x.shape[0]\n",
    "    f_wb = np.zeros(m)\n",
    "    \n",
    "    for i in range(m):\n",
    "        f_wb[i] = w * x[i] + b\n",
    "        \n",
    "    return f_wb\n",
    "        "
   ]
  },
  {
   "cell_type": "code",
   "execution_count": 32,
   "id": "59c60507-59b1-4170-a3bf-ee7c45656821",
   "metadata": {},
   "outputs": [
    {
     "data": {
      "image/png": "[encoded data removed]",
      "text/plain": [
       "<Figure size 432x288 with 1 Axes>"
      ]
     },
     "metadata": {
      "needs_background": "light"
     },
     "output_type": "display_data"
    }
   ],
   "source": [
    "tmp_f_wb = compute_model_output(x_train, w, b,)\n",
    "\n",
    "# Plot our model prediction\n",
    "plt.plot(x_train, tmp_f_wb, c='b',label='Our Prediction')\n",
    "\n",
    "# Plot the data points\n",
    "plt.scatter(x_train, y_train, marker='x', c='r',label='Actual Values')\n",
    "\n",
    "# Set the title\n",
    "plt.title(\"Housing Prices\")\n",
    "# Set the y-axis label\n",
    "plt.ylabel('Price (in 1000s of dollars)')\n",
    "# Set the x-axis label\n",
    "plt.xlabel('Size (1000 sqft)')\n",
    "plt.legend()\n",
    "plt.show()"
   ]
  },
  {
   "cell_type": "code",
   "execution_count": 37,
   "id": "9ec5e289-a76d-4ece-a10a-cff904da5906",
   "metadata": {},
   "outputs": [
    {
     "name": "stdout",
     "output_type": "stream",
     "text": [
      "$450 thousand dollars\n"
     ]
    }
   ],
   "source": [
    "# now prdicting new values because we have a model\n",
    "\n",
    "w = 100                         \n",
    "b = 200    \n",
    "x_i = 2.5\n",
    "cost_1200sqft = w * x_i + b    \n",
    "\n",
    "print(f\"${cost_1200sqft:.0f} thousand dollars\")"
   ]
  },
  {
   "cell_type": "code",
   "execution_count": 38,
   "id": "08fbc65a-0345-464c-a90b-a77acb2095cd",
   "metadata": {},
   "outputs": [],
   "source": [
    "# Computing Cost\n",
    "# The term 'cost' in this assignment might be a little confusing since the data is housing cost. Here, cost is a measure how well our model is predicting the target price of the house. The term 'price' is used for housing data.\n",
    "\n",
    "# The equation for cost with one variable is:\n",
    "# 𝐽(𝑤,𝑏)=12𝑚∑𝑖=0𝑚−1(𝑓𝑤,𝑏(𝑥(𝑖))−𝑦(𝑖))2(1)\n",
    "# where\n",
    "# 𝑓𝑤,𝑏(𝑥(𝑖))=𝑤𝑥(𝑖)+𝑏(2)\n",
    "# 𝑓𝑤,𝑏(𝑥(𝑖))\n",
    "#   is our prediction for example  𝑖\n",
    "#   using parameters  𝑤,𝑏\n",
    "#  .\n",
    "# (𝑓𝑤,𝑏(𝑥(𝑖))−𝑦(𝑖))2\n",
    "#   is the squared difference between the target value and the prediction.\n",
    "# These differences are summed over all the  𝑚\n",
    "#   examples and divided by 2m to produce the cost,  𝐽(𝑤,𝑏)\n",
    "#  .\n",
    "# Note, in lecture summation ranges are typically from 1 to m, while code will be from 0 to m-1."
   ]
  },
  {
   "cell_type": "code",
   "execution_count": 48,
   "id": "57421aa7-c5db-4998-bd75-a1e7066f5711",
   "metadata": {},
   "outputs": [],
   "source": [
    "import numpy as np\n",
    "%matplotlib widget\n",
    "import matplotlib.pyplot as plt\n"
   ]
  },
  {
   "cell_type": "code",
   "execution_count": 49,
   "id": "b67e0f24-508a-4bca-a81f-95baae83f6c5",
   "metadata": {},
   "outputs": [],
   "source": [
    "def compute_cost(x, y, w, b): \n",
    "    \"\"\"\n",
    "    Computes the cost function for linear regression.\n",
    "    \n",
    "    Args:\n",
    "      x (ndarray (m,)): Data, m examples \n",
    "      y (ndarray (m,)): target values\n",
    "      w,b (scalar)    : model parameters  \n",
    "    \n",
    "    Returns\n",
    "        total_cost (float): The cost of using w,b as the parameters for linear regression\n",
    "               to fit the data points in x and y\n",
    "    \"\"\"\n",
    "#     m is the number of training\n",
    "    m = x.shape[0]\n",
    "    cost_sum = 0\n",
    "    \n",
    "    for i in range(m):\n",
    "        f_wb = w * x_[i] + b\n",
    "        cost = (f_wb - y[i]) ** 2\n",
    "        cost_sum = cost_sum + cost\n",
    "    total_cost = (1 / (2 * m)) * cost_sum\n",
    "    return total_cost"
   ]
  },
  {
   "cell_type": "code",
   "execution_count": 50,
   "id": "7117624c-5e80-46f9-b9e1-05ae5534fa20",
   "metadata": {},
   "outputs": [],
   "source": [
    "# Your goal is to find a model  𝑓𝑤,𝑏(𝑥)=𝑤𝑥+𝑏\n",
    "#  , with parameters  𝑤,𝑏\n",
    "#  , which will accurately predict house values given an input  𝑥\n",
    "#  . The cost is a measure of how accurate the model is on the training data.\n",
    "\n",
    "# The cost equation (1) above shows that if  𝑤\n",
    "#   and  𝑏\n",
    "#   can be selected such that the predictions  𝑓𝑤,𝑏(𝑥)\n",
    "#   match the target data  𝑦\n",
    "#  , the  (𝑓𝑤,𝑏(𝑥(𝑖))−𝑦(𝑖))2\n",
    "#   term will be zero and the cost minimized. In this simple two point example, you can achieve this!\n",
    "\n",
    "# In the previous lab, you determined that  𝑏=100\n",
    "#   provided an optimal solution so let's set  𝑏\n",
    "#   to 100 and focus on  𝑤\n",
    "#  .\n",
    "\n",
    "\n",
    "# Below, use the slider control to select the value of  𝑤\n",
    "#   that minimizes cost. It can take a few seconds for the plot to update."
   ]
  },
  {
   "cell_type": "code",
   "execution_count": 53,
   "id": "f95a23f0-ef60-44e5-b25c-13709130866e",
   "metadata": {},
   "outputs": [],
   "source": []
  },
  {
   "cell_type": "code",
   "execution_count": null,
   "id": "8f6f50f3-b424-47dc-ac74-421acbf9bbc8",
   "metadata": {},
   "outputs": [],
   "source": []
  }
 ],
 "metadata": {
  "kernelspec": {
   "display_name": "Python 3 (ipykernel)",
   "language": "python",
   "name": "python3"
  },
  "language_info": {
   "codemirror_mode": {
    "name": "ipython",
    "version": 3
   },
   "file_extension": ".py",
   "mimetype": "text/x-python",
   "name": "python",
   "nbconvert_exporter": "python",
   "pygments_lexer": "ipython3",
   "version": "3.9.12"
  }
 },
 "nbformat": 4,
 "nbformat_minor": 5
}
